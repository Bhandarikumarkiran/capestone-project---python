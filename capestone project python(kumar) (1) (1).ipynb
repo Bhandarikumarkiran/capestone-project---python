{
 "cells": [
  {
   "cell_type": "code",
   "execution_count": null,
   "id": "819e162b-f441-464a-a70a-11632d6c6a66",
   "metadata": {},
   "outputs": [],
   "source": [
    "#Task1: Create three dataframes and save them as .csv files"
   ]
  },
  {
   "cell_type": "code",
   "execution_count": 11,
   "id": "a8db1c9a-3281-4045-baa6-fc409cd279fa",
   "metadata": {},
   "outputs": [
    {
     "name": "stdout",
     "output_type": "stream",
     "text": [
      "Project DataFrame:\n",
      "      ID     Project     Cost    Status\n",
      "0   A001   Project 1  1002000  Finished\n",
      "1   A002   Project 2  2000000   Ongoing\n",
      "2   A003   Project 3  4500000  Finished\n",
      "3   A004   Project 4  5500000   Ongoing\n",
      "4   A005   Project 5   680000  Finished\n",
      "5   A002   Project 6   400000    Failed\n",
      "6   A005   Project 7   350000  Finished\n",
      "7   A003   Project 8   300000    Failed\n",
      "8   A001   Project 9  2000000   Ongoing\n",
      "9   A003  Project 10  1000000  Finished\n",
      "10  A001  Project 11  3000000    Failed\n",
      "11  A004  Project 12  2000000   Ongoing\n",
      "12  A004  Project 13  2000000  Finished\n",
      "13  A005  Project 14  3000000  Finished\n",
      "\n",
      "Employee DataFrame:\n",
      "     ID             Name Gender     City  Age\n",
      "0  A001       John Alter      M    Paris   25\n",
      "1  A002  Alice Luxumberg      F   London   27\n",
      "2  A003              Tom      M   Berlin   29\n",
      "3  A004       Nina Adgra      F  Newyork   31\n",
      "4  A005        Amy Johny      F   Madrid   30\n",
      "\n",
      "Seniority DataFrame:\n",
      "     ID  Designation Level\n",
      "0  A001                  2\n",
      "1  A002                  2\n",
      "2  A003                  3\n",
      "3  A004                  2\n",
      "4  A005                  3\n",
      "DataFrames saved to CSV files.\n"
     ]
    }
   ],
   "source": [
    "import pandas as pd\n",
    "\n",
    "# Create dataframes from the given data\n",
    "project_df = pd.DataFrame({\n",
    "    'ID': ['A001', 'A002', 'A003', 'A004', 'A005', 'A002', 'A005', 'A003', 'A001', 'A003', 'A001', 'A004', 'A004', 'A005'],\n",
    "    'Project': ['Project 1', 'Project 2', 'Project 3', 'Project 4', 'Project 5', 'Project 6', 'Project 7', 'Project 8', 'Project 9', 'Project 10', 'Project 11', 'Project 12', 'Project 13', 'Project 14'],\n",
    "    'Cost': [1002000, 2000000, 4500000, 5500000, 680000, 400000, 350000, 300000, 2000000, 1000000, 3000000, 2000000, 2000000, 3000000],  # Corrected length\n",
    "    'Status': ['Finished', 'Ongoing', 'Finished', 'Ongoing', 'Finished', 'Failed', 'Finished', 'Failed', 'Ongoing', 'Finished', 'Failed', 'Ongoing', 'Finished', 'Finished']\n",
    "})\n",
    "\n",
    "employee_df = pd.DataFrame({\n",
    "    'ID': ['A001', 'A002', 'A003', 'A004', 'A005'],\n",
    "    'Name': ['John Alter', 'Alice Luxumberg', 'Tom', 'Nina Adgra', 'Amy Johny'],\n",
    "    'Gender': ['M', 'F', 'M', 'F', 'F'],\n",
    "    'City': ['Paris', 'London', 'Berlin', 'Newyork', 'Madrid'],\n",
    "    'Age': [25, 27, 29, 31, 30]\n",
    "})\n",
    "\n",
    "seniority_df = pd.DataFrame({\n",
    "    'ID': ['A001', 'A002', 'A003', 'A004', 'A005'],\n",
    "    'Designation Level': [2, 2, 3, 2, 3]\n",
    "})\n",
    "\n",
    "# Save dataframes to CSV files \n",
    "project_df.to_csv('project.csv', index=False)\n",
    "employee_df.to_csv('employee.csv', index=False)\n",
    "seniority_df.to_csv('seniority.csv', index=False)\n",
    "\n",
    "# Print the entire Project Dataframe \n",
    "print(\"Project DataFrame:\")\n",
    "print(project_df) \n",
    "\n",
    "# Print the first few rows of the other dataframes\n",
    "print(\"\\nEmployee DataFrame:\")\n",
    "print(employee_df.head())\n",
    "print(\"\\nSeniority DataFrame:\")\n",
    "print(seniority_df.head())\n",
    "\n",
    "print(\"DataFrames saved to CSV files.\")"
   ]
  },
  {
   "cell_type": "code",
   "execution_count": null,
   "id": "d2b703db-3c41-4c9b-b933-3443de3f612f",
   "metadata": {},
   "outputs": [],
   "source": [
    "#Task 2: Replace the missing values by running average"
   ]
  },
  {
   "cell_type": "code",
   "execution_count": 13,
   "id": "fb8136c7-11ad-4967-84b4-e918a1787adc",
   "metadata": {},
   "outputs": [
    {
     "name": "stdout",
     "output_type": "stream",
     "text": [
      "Updated Project DataFrame:\n",
      "      ID     Project     Cost    Status\n",
      "0   A001   Project 1  1002000  Finished\n",
      "1   A002   Project 2  2000000   Ongoing\n",
      "2   A003   Project 3  4500000  Finished\n",
      "3   A004   Project 4  5500000   Ongoing\n",
      "4   A005   Project 5   680000  Finished\n",
      "5   A002   Project 6   400000    Failed\n",
      "6   A005   Project 7   350000  Finished\n",
      "7   A003   Project 8   300000    Failed\n",
      "8   A001   Project 9  2000000   Ongoing\n",
      "9   A003  Project 10  1000000  Finished\n",
      "10  A001  Project 11  3000000    Failed\n",
      "11  A004  Project 12  2000000   Ongoing\n",
      "12  A004  Project 13  2000000  Finished\n",
      "13  A005  Project 14  3000000  Finished\n",
      "Missing values in Project Cost replaced with mean.\n"
     ]
    }
   ],
   "source": [
    "project_df = pd.read_csv('project.csv')\n",
    "\n",
    "# Calculate the mean cost \n",
    "mean_cost = project_df['Cost'].mean()\n",
    "\n",
    "# Replace missing values with the mean \n",
    "for i in range(len(project_df)):\n",
    "    if pd.isna(project_df.loc[i, 'Cost']):\n",
    "        project_df.loc[i, 'Cost'] = mean_cost\n",
    "\n",
    "# Save the updated dataframe \n",
    "project_df.to_csv('project.csv', index=False)\n",
    "\n",
    "# Print the update dataframes \n",
    "print(\"Updated Project DataFrame:\")\n",
    "print(project_df)\n",
    "\n",
    "print(\"Missing values in Project Cost replaced with mean.\")"
   ]
  },
  {
   "cell_type": "code",
   "execution_count": null,
   "id": "439eb211-78ed-4778-9939-25f3e00fd701",
   "metadata": {},
   "outputs": [],
   "source": [
    "#Task 3: Name column split into First Name and Last Name."
   ]
  },
  {
   "cell_type": "code",
   "execution_count": 15,
   "id": "cf787727-9f0b-411e-8151-a271c9be7458",
   "metadata": {},
   "outputs": [
    {
     "name": "stdout",
     "output_type": "stream",
     "text": [
      "Updated Employee DataFrame:\n",
      "     ID Gender     City  Age First Name  Last Name\n",
      "0  A001      M    Paris   25       John      Alter\n",
      "1  A002      F   London   27      Alice  Luxumberg\n",
      "2  A003      M   Berlin   29        Tom       None\n",
      "3  A004      F  Newyork   31       Nina      Adgra\n",
      "4  A005      F   Madrid   30        Amy      Johny\n",
      "Name column split into First Name and Last Name.\n"
     ]
    }
   ],
   "source": [
    "employee_df = pd.read_csv('employee.csv')\n",
    "\n",
    "# Split the name column \n",
    "employee_df[['First Name', 'Last Name']] = employee_df['Name'].str.split(' ', n=1, expand=True)\n",
    "\n",
    "# Drop the original name column \n",
    "employee_df.drop('Name', axis=1, inplace=True)\n",
    "\n",
    "# Save the updated dataframe \n",
    "employee_df.to_csv('employee.csv', index=False)\n",
    "\n",
    "# print the updated dataframe\n",
    "print(\"Updated Employee DataFrame:\")\n",
    "print(employee_df)\n",
    "\n",
    "print(\"Name column split into First Name and Last Name.\")"
   ]
  },
  {
   "cell_type": "code",
   "execution_count": null,
   "id": "ac1e9c63-5578-45ce-b4ac-650c1d07e0a1",
   "metadata": {},
   "outputs": [],
   "source": [
    "#Task 4: join all three dataFrames"
   ]
  },
  {
   "cell_type": "code",
   "execution_count": 17,
   "id": "66352f4b-815d-438f-a928-fc0c7d39a01d",
   "metadata": {},
   "outputs": [
    {
     "name": "stdout",
     "output_type": "stream",
     "text": [
      "Joined DataFrame:\n",
      "      ID     Project     Cost    Status Gender     City  Age First Name  \\\n",
      "0   A001   Project 1  1002000  Finished      M    Paris   25       John   \n",
      "1   A002   Project 2  2000000   Ongoing      F   London   27      Alice   \n",
      "2   A003   Project 3  4500000  Finished      M   Berlin   29        Tom   \n",
      "3   A004   Project 4  5500000   Ongoing      F  Newyork   31       Nina   \n",
      "4   A005   Project 5   680000  Finished      F   Madrid   30        Amy   \n",
      "5   A002   Project 6   400000    Failed      F   London   27      Alice   \n",
      "6   A005   Project 7   350000  Finished      F   Madrid   30        Amy   \n",
      "7   A003   Project 8   300000    Failed      M   Berlin   29        Tom   \n",
      "8   A001   Project 9  2000000   Ongoing      M    Paris   25       John   \n",
      "9   A003  Project 10  1000000  Finished      M   Berlin   29        Tom   \n",
      "10  A001  Project 11  3000000    Failed      M    Paris   25       John   \n",
      "11  A004  Project 12  2000000   Ongoing      F  Newyork   31       Nina   \n",
      "12  A004  Project 13  2000000  Finished      F  Newyork   31       Nina   \n",
      "13  A005  Project 14  3000000  Finished      F   Madrid   30        Amy   \n",
      "\n",
      "    Last Name  Designation Level  \n",
      "0       Alter                  2  \n",
      "1   Luxumberg                  2  \n",
      "2         NaN                  3  \n",
      "3       Adgra                  2  \n",
      "4       Johny                  3  \n",
      "5   Luxumberg                  2  \n",
      "6       Johny                  3  \n",
      "7         NaN                  3  \n",
      "8       Alter                  2  \n",
      "9         NaN                  3  \n",
      "10      Alter                  2  \n",
      "11      Adgra                  2  \n",
      "12      Adgra                  2  \n",
      "13      Johny                  3  \n",
      "DataFrames joined successfully.\n"
     ]
    }
   ],
   "source": [
    "project_df = pd.read_csv('project.csv')\n",
    "employee_df = pd.read_csv('employee.csv')\n",
    "seniority_df = pd.read_csv('seniority.csv')\n",
    "\n",
    "# Join dataframes \n",
    "final_df = project_df.merge(employee_df, on='ID', how='left')\n",
    "final_df = final_df.merge(seniority_df, on='ID', how='left')\n",
    "\n",
    "# Save the final dataframe \n",
    "final_df.to_csv('final.csv', index=False)\n",
    "\n",
    "# Print the joined dataframe \n",
    "print(\"Joined DataFrame:\")\n",
    "print(final_df)\n",
    "\n",
    "print(\"DataFrames joined successfully.\")"
   ]
  },
  {
   "cell_type": "code",
   "execution_count": null,
   "id": "ec92aa2a-3748-41f5-9073-115014f22433",
   "metadata": {},
   "outputs": [],
   "source": [
    "#Task 5: bonous column added to the dataframe"
   ]
  },
  {
   "cell_type": "code",
   "execution_count": 19,
   "id": "bdccbb3d-8c96-4384-97b4-d97e1db9316f",
   "metadata": {},
   "outputs": [
    {
     "name": "stdout",
     "output_type": "stream",
     "text": [
      "DataFrame with Bonus column:\n",
      "      ID     Project     Cost    Status Gender     City  Age First Name  \\\n",
      "0   A001   Project 1  1002000  Finished      M    Paris   25       John   \n",
      "1   A002   Project 2  2000000   Ongoing      F   London   27      Alice   \n",
      "2   A003   Project 3  4500000  Finished      M   Berlin   29        Tom   \n",
      "3   A004   Project 4  5500000   Ongoing      F  Newyork   31       Nina   \n",
      "4   A005   Project 5   680000  Finished      F   Madrid   30        Amy   \n",
      "5   A002   Project 6   400000    Failed      F   London   27      Alice   \n",
      "6   A005   Project 7   350000  Finished      F   Madrid   30        Amy   \n",
      "7   A003   Project 8   300000    Failed      M   Berlin   29        Tom   \n",
      "8   A001   Project 9  2000000   Ongoing      M    Paris   25       John   \n",
      "9   A003  Project 10  1000000  Finished      M   Berlin   29        Tom   \n",
      "10  A001  Project 11  3000000    Failed      M    Paris   25       John   \n",
      "11  A004  Project 12  2000000   Ongoing      F  Newyork   31       Nina   \n",
      "12  A004  Project 13  2000000  Finished      F  Newyork   31       Nina   \n",
      "13  A005  Project 14  3000000  Finished      F   Madrid   30        Amy   \n",
      "\n",
      "    Last Name  Designation Level     Bonus  \n",
      "0       Alter                  2   50100.0  \n",
      "1   Luxumberg                  2       0.0  \n",
      "2         NaN                  3  225000.0  \n",
      "3       Adgra                  2       0.0  \n",
      "4       Johny                  3   34000.0  \n",
      "5   Luxumberg                  2       0.0  \n",
      "6       Johny                  3   17500.0  \n",
      "7         NaN                  3       0.0  \n",
      "8       Alter                  2       0.0  \n",
      "9         NaN                  3   50000.0  \n",
      "10      Alter                  2       0.0  \n",
      "11      Adgra                  2       0.0  \n",
      "12      Adgra                  2  100000.0  \n",
      "13      Johny                  3  150000.0  \n",
      "Bonus column added to the DataFrame.\n"
     ]
    }
   ],
   "source": [
    "final_df = pd.read_csv('final.csv')\n",
    "\n",
    "# Add Bonus column \n",
    "final_df['Bonus'] = final_df.apply(lambda x: x['Cost'] * 0.05 if x['Status'] == 'Finished' else 0, axis=1)\n",
    "\n",
    "# Save the updated dataframe \n",
    "final_df.to_csv('final.csv', index=False)\n",
    "\n",
    "# Print the dataframes with the added bonus column\n",
    "print(\"DataFrame with Bonus column:\")\n",
    "print(final_df)\n",
    "\n",
    "print(\"Bonus column added to the DataFrame.\")"
   ]
  },
  {
   "cell_type": "code",
   "execution_count": null,
   "id": "c8726884-e71b-42f7-9dc7-fe8896885b99",
   "metadata": {},
   "outputs": [],
   "source": [
    "#Task 6: Demote designation levels for Failed projects and delete invalid records"
   ]
  },
  {
   "cell_type": "code",
   "execution_count": 21,
   "id": "0baa2752-bab9-4ac4-a1f1-2c1be767cfd4",
   "metadata": {},
   "outputs": [
    {
     "name": "stdout",
     "output_type": "stream",
     "text": [
      "Updated DataFrame after demotion and deletion:\n",
      "      ID     Project     Cost    Status Gender     City  Age First Name  \\\n",
      "0   A001   Project 1  1002000  Finished      M    Paris   25       John   \n",
      "1   A002   Project 2  2000000   Ongoing      F   London   27      Alice   \n",
      "2   A003   Project 3  4500000  Finished      M   Berlin   29        Tom   \n",
      "3   A004   Project 4  5500000   Ongoing      F  Newyork   31       Nina   \n",
      "4   A005   Project 5   680000  Finished      F   Madrid   30        Amy   \n",
      "5   A002   Project 6   400000    Failed      F   London   27      Alice   \n",
      "6   A005   Project 7   350000  Finished      F   Madrid   30        Amy   \n",
      "7   A003   Project 8   300000    Failed      M   Berlin   29        Tom   \n",
      "8   A001   Project 9  2000000   Ongoing      M    Paris   25       John   \n",
      "9   A003  Project 10  1000000  Finished      M   Berlin   29        Tom   \n",
      "10  A001  Project 11  3000000    Failed      M    Paris   25       John   \n",
      "11  A004  Project 12  2000000   Ongoing      F  Newyork   31       Nina   \n",
      "12  A004  Project 13  2000000  Finished      F  Newyork   31       Nina   \n",
      "13  A005  Project 14  3000000  Finished      F   Madrid   30        Amy   \n",
      "\n",
      "    Last Name  Designation Level     Bonus  \n",
      "0       Alter                  2   50100.0  \n",
      "1   Luxumberg                  2       0.0  \n",
      "2         NaN                  3  225000.0  \n",
      "3       Adgra                  2       0.0  \n",
      "4       Johny                  3   34000.0  \n",
      "5   Luxumberg                  1       0.0  \n",
      "6       Johny                  3   17500.0  \n",
      "7         NaN                  2       0.0  \n",
      "8       Alter                  2       0.0  \n",
      "9         NaN                  3   50000.0  \n",
      "10      Alter                  1       0.0  \n",
      "11      Adgra                  2       0.0  \n",
      "12      Adgra                  2  100000.0  \n",
      "13      Johny                  3  150000.0  \n",
      "Employees demoted and deleted as per the conditions.\n"
     ]
    }
   ],
   "source": [
    "final_df = pd.read_csv('final.csv')\n",
    "\n",
    "# Demote employess with failed projects \n",
    "final_df.loc[final_df['Status'] == 'Failed', 'Designation Level'] -= 1\n",
    "\n",
    "# Delete employees with designation level above 4 \n",
    "final_df = final_df[final_df['Designation Level'] <= 4]\n",
    "\n",
    "# Save the updated dataframes \n",
    "final_df.to_csv('final.csv', index=False)\n",
    "\n",
    "# Print the updated dataframes \n",
    "print(\"Updated DataFrame after demotion and deletion:\")\n",
    "print(final_df)\n",
    "\n",
    "print(\"Employees demoted and deleted as per the conditions.\")"
   ]
  },
  {
   "cell_type": "code",
   "execution_count": null,
   "id": "59317cc9-abb3-46f8-9b5b-a3b95c22ccbe",
   "metadata": {},
   "outputs": [],
   "source": [
    "#task 7: Add titles to the first time column and drop the gender column"
   ]
  },
  {
   "cell_type": "code",
   "execution_count": 23,
   "id": "ef629060-9b25-4766-a058-a44c72dfd705",
   "metadata": {},
   "outputs": [
    {
     "name": "stdout",
     "output_type": "stream",
     "text": [
      "Updated DataFrame after adding titles and dropping Gender:\n",
      "      ID     Project     Cost    Status     City  Age  First Name  Last Name  \\\n",
      "0   A001   Project 1  1002000  Finished    Paris   25    Mr. John      Alter   \n",
      "1   A002   Project 2  2000000   Ongoing   London   27  Mrs. Alice  Luxumberg   \n",
      "2   A003   Project 3  4500000  Finished   Berlin   29     Mr. Tom        NaN   \n",
      "3   A004   Project 4  5500000   Ongoing  Newyork   31   Mrs. Nina      Adgra   \n",
      "4   A005   Project 5   680000  Finished   Madrid   30    Mrs. Amy      Johny   \n",
      "5   A002   Project 6   400000    Failed   London   27  Mrs. Alice  Luxumberg   \n",
      "6   A005   Project 7   350000  Finished   Madrid   30    Mrs. Amy      Johny   \n",
      "7   A003   Project 8   300000    Failed   Berlin   29     Mr. Tom        NaN   \n",
      "8   A001   Project 9  2000000   Ongoing    Paris   25    Mr. John      Alter   \n",
      "9   A003  Project 10  1000000  Finished   Berlin   29     Mr. Tom        NaN   \n",
      "10  A001  Project 11  3000000    Failed    Paris   25    Mr. John      Alter   \n",
      "11  A004  Project 12  2000000   Ongoing  Newyork   31   Mrs. Nina      Adgra   \n",
      "12  A004  Project 13  2000000  Finished  Newyork   31   Mrs. Nina      Adgra   \n",
      "13  A005  Project 14  3000000  Finished   Madrid   30    Mrs. Amy      Johny   \n",
      "\n",
      "    Designation Level     Bonus  \n",
      "0                   2   50100.0  \n",
      "1                   2       0.0  \n",
      "2                   3  225000.0  \n",
      "3                   2       0.0  \n",
      "4                   3   34000.0  \n",
      "5                   1       0.0  \n",
      "6                   3   17500.0  \n",
      "7                   2       0.0  \n",
      "8                   2       0.0  \n",
      "9                   3   50000.0  \n",
      "10                  1       0.0  \n",
      "11                  2       0.0  \n",
      "12                  2  100000.0  \n",
      "13                  3  150000.0  \n",
      "Titles added and Gender column dropped.\n"
     ]
    }
   ],
   "source": [
    "final_df = pd.read_csv('final.csv')\n",
    "\n",
    "# Add titles based on gender \n",
    "final_df['First Name'] = final_df.apply(lambda x: 'Mr. ' + x['First Name'] if x['Gender'] == 'M' else 'Mrs. ' + x['First Name'], axis=1)\n",
    "\n",
    "# Drop the gender column \n",
    "final_df.drop('Gender', axis=1, inplace=True)\n",
    "\n",
    "# Save the updated dataframes \n",
    "final_df.to_csv('final.csv', index=False)\n",
    "\n",
    "# Print the updated dataframes \n",
    "print(\"Updated DataFrame after adding titles and dropping Gender:\")\n",
    "print(final_df)\n",
    "\n",
    "print(\"Titles added and Gender column dropped.\")"
   ]
  },
  {
   "cell_type": "code",
   "execution_count": null,
   "id": "3086cfec-64d1-44a2-810a-a2c3cfbc8270",
   "metadata": {},
   "outputs": [],
   "source": [
    "#Task 8: Promte designation levels for employees older than 29 years"
   ]
  },
  {
   "cell_type": "code",
   "execution_count": 25,
   "id": "e4afee09-f1e8-4469-9c1b-48e73f916c47",
   "metadata": {},
   "outputs": [
    {
     "name": "stdout",
     "output_type": "stream",
     "text": [
      "Updated DataFrame after promoting employees:\n",
      "      ID     Project     Cost    Status     City  Age  First Name  Last Name  \\\n",
      "0   A001   Project 1  1002000  Finished    Paris   25    Mr. John      Alter   \n",
      "1   A002   Project 2  2000000   Ongoing   London   27  Mrs. Alice  Luxumberg   \n",
      "2   A003   Project 3  4500000  Finished   Berlin   29     Mr. Tom        NaN   \n",
      "3   A004   Project 4  5500000   Ongoing  Newyork   31   Mrs. Nina      Adgra   \n",
      "4   A005   Project 5   680000  Finished   Madrid   30    Mrs. Amy      Johny   \n",
      "5   A002   Project 6   400000    Failed   London   27  Mrs. Alice  Luxumberg   \n",
      "6   A005   Project 7   350000  Finished   Madrid   30    Mrs. Amy      Johny   \n",
      "7   A003   Project 8   300000    Failed   Berlin   29     Mr. Tom        NaN   \n",
      "8   A001   Project 9  2000000   Ongoing    Paris   25    Mr. John      Alter   \n",
      "9   A003  Project 10  1000000  Finished   Berlin   29     Mr. Tom        NaN   \n",
      "10  A001  Project 11  3000000    Failed    Paris   25    Mr. John      Alter   \n",
      "11  A004  Project 12  2000000   Ongoing  Newyork   31   Mrs. Nina      Adgra   \n",
      "12  A004  Project 13  2000000  Finished  Newyork   31   Mrs. Nina      Adgra   \n",
      "13  A005  Project 14  3000000  Finished   Madrid   30    Mrs. Amy      Johny   \n",
      "\n",
      "    Designation Level     Bonus  \n",
      "0                   2   50100.0  \n",
      "1                   2       0.0  \n",
      "2                   3  225000.0  \n",
      "3                   3       0.0  \n",
      "4                   4   34000.0  \n",
      "5                   1       0.0  \n",
      "6                   4   17500.0  \n",
      "7                   2       0.0  \n",
      "8                   2       0.0  \n",
      "9                   3   50000.0  \n",
      "10                  1       0.0  \n",
      "11                  3       0.0  \n",
      "12                  3  100000.0  \n",
      "13                  4  150000.0  \n",
      "Employees older than 29 promoted.\n"
     ]
    }
   ],
   "source": [
    "final_df = pd.read_csv('final.csv')\n",
    "\n",
    "# Promte employees older than 29\n",
    "final_df['Designation Level'] = final_df.apply(lambda x: x['Designation Level'] + 1 if x['Age'] > 29 else x['Designation Level'], axis=1)\n",
    "\n",
    "# Save the updated dataframes \n",
    "final_df.to_csv('final.csv', index=False)\n",
    "\n",
    "# Print the updated dataframes \n",
    "print(\"Updated DataFrame after promoting employees:\")\n",
    "print(final_df)\n",
    "\n",
    "print(\"Employees older than 29 promoted.\")"
   ]
  },
  {
   "cell_type": "code",
   "execution_count": null,
   "id": "2d9a0a69-9f3b-4b40-815e-87defc08e887",
   "metadata": {},
   "outputs": [],
   "source": [
    "#Task 9: Calculate the total project cost for each employee"
   ]
  },
  {
   "cell_type": "code",
   "execution_count": 27,
   "id": "de2cd2ac-0fb8-40d9-99c1-629e5a91cadd",
   "metadata": {},
   "outputs": [
    {
     "name": "stdout",
     "output_type": "stream",
     "text": [
      "Total Project Cost per Employee:\n",
      "     ID  First Name     Cost\n",
      "0  A001    Mr. John  6002000\n",
      "1  A002  Mrs. Alice  2400000\n",
      "2  A003     Mr. Tom  5800000\n",
      "3  A004   Mrs. Nina  9500000\n",
      "4  A005    Mrs. Amy  4030000\n",
      "Total project cost per employee calculated and saved.\n"
     ]
    }
   ],
   "source": [
    "final_df = pd.read_csv('final.csv')\n",
    "\n",
    "# Calculated total project cost per employee\n",
    "total_proj_cost = final_df.groupby(['ID', 'First Name'])['Cost'].sum().reset_index()\n",
    "\n",
    "# Save the new dataframes \n",
    "total_proj_cost.to_csv('total_proj_cost.csv', index=False)\n",
    "\n",
    "# Print the total project cost per employee \n",
    "print(\"Total Project Cost per Employee:\")\n",
    "print(total_proj_cost)\n",
    "\n",
    "print(\"Total project cost per employee calculated and saved.\")"
   ]
  },
  {
   "cell_type": "code",
   "execution_count": null,
   "id": "ef4e2adf-4024-4203-b3e1-2ee01b8e8c49",
   "metadata": {},
   "outputs": [],
   "source": [
    "#Task 10: Print details of employees whose city contains the letter \"0\""
   ]
  },
  {
   "cell_type": "code",
   "execution_count": 29,
   "id": "8a85bca8-82a2-4905-9760-9ed83cba189a",
   "metadata": {},
   "outputs": [
    {
     "name": "stdout",
     "output_type": "stream",
     "text": [
      "      ID     Project     Cost    Status     City  Age  First Name  Last Name  \\\n",
      "1   A002   Project 2  2000000   Ongoing   London   27  Mrs. Alice  Luxumberg   \n",
      "3   A004   Project 4  5500000   Ongoing  Newyork   31   Mrs. Nina      Adgra   \n",
      "5   A002   Project 6   400000    Failed   London   27  Mrs. Alice  Luxumberg   \n",
      "11  A004  Project 12  2000000   Ongoing  Newyork   31   Mrs. Nina      Adgra   \n",
      "12  A004  Project 13  2000000  Finished  Newyork   31   Mrs. Nina      Adgra   \n",
      "\n",
      "    Designation Level     Bonus  \n",
      "1                   2       0.0  \n",
      "3                   3       0.0  \n",
      "5                   1       0.0  \n",
      "11                  3       0.0  \n",
      "12                  3  100000.0  \n",
      "Employee details with city containing 'o' printed.\n"
     ]
    }
   ],
   "source": [
    "final_df = pd.read_csv('final.csv')\n",
    "\n",
    "# Filter employee with city containing \"0\" \n",
    "employee_details = final_df[final_df['City'].str.contains('o')]\n",
    "\n",
    "# Print the filtered dataframes \n",
    "print(employee_details)\n",
    "\n",
    "print(\"Employee details with city containing 'o' printed.\")"
   ]
  },
  {
   "cell_type": "code",
   "execution_count": 31,
   "id": "0adec193-1fb2-44cb-a3c0-73ee3c9231f4",
   "metadata": {},
   "outputs": [],
   "source": [
    "final_df.to_csv('final_all_tasks.csv' , index=False)"
   ]
  },
  {
   "cell_type": "code",
   "execution_count": null,
   "id": "e72bb723-96ec-4b76-b5e5-bceaed764a28",
   "metadata": {},
   "outputs": [],
   "source": []
  }
 ],
 "metadata": {
  "kernelspec": {
   "display_name": "Python [conda env:base] *",
   "language": "python",
   "name": "conda-base-py"
  },
  "language_info": {
   "codemirror_mode": {
    "name": "ipython",
    "version": 3
   },
   "file_extension": ".py",
   "mimetype": "text/x-python",
   "name": "python",
   "nbconvert_exporter": "python",
   "pygments_lexer": "ipython3",
   "version": "3.12.7"
  }
 },
 "nbformat": 4,
 "nbformat_minor": 5
}
